{
 "cells": [
  {
   "cell_type": "markdown",
   "id": "2f380fc1",
   "metadata": {},
   "source": [
    "# 📡 Radio Signal Classifier Integration Demo\n",
    "\n",
    "本 Notebook 展示如何加载 MS2090A 采样 `.dat` 文件、进行增强、特征转换（S2M）、并使用 ResNet 模型进行调制识别。"
   ]
  },
  {
   "cell_type": "code",
   "execution_count": null,
   "id": "943c8ae4",
   "metadata": {},
   "outputs": [],
   "source": [
    "# 安装必要库（如未安装）\n",
    "!pip install torch torchvision pytorch-lightning numpy"
   ]
  },
  {
   "cell_type": "code",
   "execution_count": null,
   "id": "a3455fad",
   "metadata": {},
   "outputs": [],
   "source": [
    "# 导入核心模块\n",
    "from resnet_s2m import S2MResNet\n",
    "from augment import iq_augment\n",
    "from ms2090a_interface import load_ms2090a_dat_file\n",
    "import torch, numpy as np\n",
    "import matplotlib.pyplot as plt"
   ]
  },
  {
   "cell_type": "code",
   "execution_count": null,
   "id": "286efaa4",
   "metadata": {},
   "outputs": [],
   "source": [
    "# 加载 .dat 文件（路径可修改为你的实际数据路径）\n",
    "dat_path = 'your_signal.dat'  # 替换为你的 MS2090A 采集路径\n",
    "iq = load_ms2090a_dat_file(dat_path)\n",
    "iq_aug = iq_augment(iq)"
   ]
  },
  {
   "cell_type": "code",
   "execution_count": null,
   "id": "94f73a8b",
   "metadata": {},
   "outputs": [],
   "source": [
    "# S2M 特征转换\n",
    "s2m = np.outer(iq_aug.real, iq_aug.imag).astype(np.float32)\n",
    "s2m = (s2m - s2m.mean()) / (s2m.std() + 1e-6)\n",
    "s2m_tensor = torch.tensor(s2m).unsqueeze(0).unsqueeze(0)  # [1, 1, H, W]"
   ]
  },
  {
   "cell_type": "code",
   "execution_count": null,
   "id": "9ae15539",
   "metadata": {},
   "outputs": [],
   "source": [
    "# 加载模型（假设已训练）\n",
    "model = S2MResNet(num_classes=11)\n",
    "# model.load_state_dict(torch.load('model.ckpt', map_location='cpu'))\n",
    "model.eval()\n",
    "with torch.no_grad():\n",
    "    pred = model(s2m_tensor).argmax(dim=1).item()\n",
    "print(f'识别结果类别编号：{pred}')"
   ]
  },
  {
   "cell_type": "code",
   "execution_count": null,
   "id": "21ca5385",
   "metadata": {},
   "outputs": [],
   "source": [
    "# 可视化 S2M 图像\n",
    "plt.imshow(s2m, cmap='viridis')\n",
    "plt.title('Signal-to-Matrix (S2M) Representation')\n",
    "plt.colorbar()\n",
    "plt.show()"
   ]
  }
 ],
 "metadata": {},
 "nbformat": 4,
 "nbformat_minor": 5
}
